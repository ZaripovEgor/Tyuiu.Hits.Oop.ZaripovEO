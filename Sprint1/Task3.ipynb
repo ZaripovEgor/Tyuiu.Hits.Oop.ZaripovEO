{
 "cells": [
  {
   "cell_type": "markdown",
   "metadata": {},
   "source": [
    "<h1 style=\"color:DodgerBlue\">Индивидальный проект</h1>"
   ]
  },
  {
   "cell_type": "markdown",
   "metadata": {},
   "source": [
    "<h2 style=\"color:DodgerBlue\">Название проекта:</h2>\n",
    "\n",
    "----\n",
    "\n",
    "### Вариант задания \n"
   ]
  },
  {
   "cell_type": "markdown",
   "metadata": {},
   "source": [
    "<h2 style=\"color:DodgerBlue\">Описание проекта:</h2>\n",
    "\n",
    "----\n",
    "\n",
    "[ваш текст]\n",
    "\n",
    "#### Дополнительное задание\n",
    "Добавьте к сущестующим классам конструктора классов с использованием гетторов и сетторов и реализуйте взаимодействие объектов между собой"
   ]
  },
  {
   "cell_type": "markdown",
   "metadata": {},
   "source": [
    "<h2 style=\"color:DodgerBlue\">Реализация:</h2>\n",
    "\n",
    "----"
   ]
  },
  {
   "cell_type": "code",
   "execution_count": 1,
   "metadata": {
    "dotnet_interactive": {
     "language": "csharp"
    },
    "polyglot_notebook": {
     "kernelName": "csharp"
    }
   },
   "outputs": [],
   "source": [
    "public class Product\n",
    "{\n",
    "    public string Name { get; set; }\n",
    "    public double Price { get; set; }\n",
    "    public string Manufacturer { get; set; }\n",
    "    public double NewPrice = 0;\n",
    "    public bool IfDscOn = false;\n",
    "    public double Dsc;\n",
    "\n",
    "    public virtual void GetInfo() \n",
    "    {\n",
    "        if(IfDscOn == true)\n",
    "        {\n",
    "            Console.WriteLine($\"Название:{Name} Скидка:{Dsc}% Цена:{NewPrice} Производитель:{Manufacturer}\");\n",
    "        }\n",
    "        else\n",
    "        {\n",
    "            Console.WriteLine($\"Название:{Name} Цена:{Price} Производитель:{Manufacturer}\");\n",
    "        }\n",
    "    }\n",
    "    public virtual void DiscountOn() \n",
    "    {\n",
    "        NewPrice = (Price * (1 - Dsc / 100));\n",
    "        NewPrice = Math.Round(NewPrice, 2);\n",
    "        Console.WriteLine($\"Активирована скидка {Dsc}%!\");\n",
    "        IfDscOn = true;\n",
    "    }\n",
    "\n",
    "    public virtual void Display() \n",
    "    {\n",
    "        if(IfDscOn == true)\n",
    "        {\n",
    "            Console.WriteLine($\"Название:{Name}\");\n",
    "            Console.WriteLine($\"Скидка:{Dsc}%\");\n",
    "            Console.WriteLine($\"Цена:{NewPrice}\");\n",
    "            Console.WriteLine($\"Производитель:{Manufacturer}\");\n",
    "        }\n",
    "        else\n",
    "        {\n",
    "            Console.WriteLine($\"Название:{Name}\");\n",
    "            Console.WriteLine($\"Цена:{Price}\");\n",
    "            Console.WriteLine($\"Производитель:{Manufacturer}\");\n",
    "        }\n",
    "    }\n",
    "\n",
    "}\n",
    "\n",
    "\n",
    "public class Electronics : Product\n",
    "{\n",
    "    public int WarrantyPeriod { get; set; }\n",
    "    public override void DiscountOn()\n",
    "    {\n",
    "        NewPrice = (Price * (1 - Dsc / 100));\n",
    "        NewPrice = Math.Round(NewPrice, 2);\n",
    "        Console.WriteLine($\"Активирована скидка {Dsc}%! Срок гарантии (лет) - {WarrantyPeriod}.\");\n",
    "        IfDscOn = true;\n",
    "    }  \n",
    "}\n",
    "\n",
    "public class Clothing : Product\n",
    "{\n",
    "    public int Size { get; set; }\n",
    "    public override void Display()\n",
    "    {\n",
    "        if(IfDscOn == true)\n",
    "        {\n",
    "            Console.WriteLine($\"Название:{Name}\");\n",
    "            Console.WriteLine($\"Скидка:{Dsc}%\");\n",
    "            Console.WriteLine($\"Цена:{NewPrice}\");\n",
    "            Console.WriteLine($\"Производитель:{Manufacturer}\");\n",
    "            Console.WriteLine($\"Размер:{Size}\");\n",
    "        }\n",
    "        else\n",
    "        {\n",
    "            Console.WriteLine($\"Название:{Name}\");\n",
    "            Console.WriteLine($\"Цена:{Price}\");\n",
    "            Console.WriteLine($\"Производитель:{Manufacturer}\");\n",
    "            Console.WriteLine($\"Размер:{Size}\");\n",
    "        }\n",
    "    }\n",
    "}\n",
    "\n",
    "public class Books : Product\n",
    "{\n",
    "    public string Author { get; set; }\n",
    "    public override void GetInfo()\n",
    "    {\n",
    "        if(IfDscOn == true)\n",
    "        {\n",
    "            Console.WriteLine($\"Название:{Name} Скидка:{Dsc}% Цена:{NewPrice} Производитель:{Manufacturer} Автор:{Author}\");\n",
    "        }\n",
    "        else\n",
    "        {\n",
    "            Console.WriteLine($\"Название:{Name} Цена:{Price} Производитель:{Manufacturer} Автор:{Author}\");\n",
    "        }\n",
    "    }\n",
    "}\n",
    "\n",
    "var electronics = new Electronics {Name = \"Наушники Zvon-15\", Price=699, Manufacturer=\"КНР\", WarrantyPeriod = 2, Dsc=15, IfDscOn=false, NewPrice=400};\n",
    "var clothing = new Clothing {Name = \"Футболка с рисунком слона\", Price=599, Manufacturer=\"Турция\", Size = 46, IfDscOn=false, Dsc=20};\n",
    "var books = new Books {Name = \"Политика\", Price=199, Manufacturer=\"Россия\", Author = \"Аристотель\", IfDscOn=false, Dsc=5};\n",
    "\n",
    "Console.WriteLine();\n",
    "electronics.Display();\n",
    "electronics.DiscountOn();\n",
    "electronics.GetInfo();\n",
    "\n",
    "Console.WriteLine();\n",
    "clothing.Display();\n",
    "//clothing.DiscountOn();\n",
    "clothing.GetInfo();\n",
    "\n",
    "Console.WriteLine();\n",
    "books.Display();\n",
    "books.DiscountOn();\n",
    "books.GetInfo();"
   ]
  }
 ],
 "metadata": {
  "kernelspec": {
   "display_name": ".NET (C#)",
   "language": "C#",
   "name": ".net-csharp"
  },
  "polyglot_notebook": {
   "kernelInfo": {
    "defaultKernelName": "csharp",
    "items": [
     {
      "aliases": [],
      "languageName": "csharp",
      "name": "csharp"
     }
    ]
   }
  }
 },
 "nbformat": 4,
 "nbformat_minor": 2
}
