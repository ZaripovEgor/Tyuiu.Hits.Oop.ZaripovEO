{
 "cells": [
  {
   "cell_type": "markdown",
   "metadata": {},
   "source": [
    "<h1 style=\"color:DodgerBlue\">Индивидальный проект</h1>"
   ]
  },
  {
   "cell_type": "markdown",
   "metadata": {},
   "source": [
    "<h2 style=\"color:DodgerBlue\">Название проекта:</h2>\n",
    "\n",
    "----\n",
    "\n",
    "### Вариант задания 4\n"
   ]
  },
  {
   "cell_type": "markdown",
   "metadata": {},
   "source": [
    "<h2 style=\"color:DodgerBlue\">Описание проекта:</h2>\n",
    "\n",
    "----\n",
    "\n",
    "Создать базовый класс Product в C#, который будет представлять информацию о\n",
    "продуктах. На основе этого класса разработать 2-3 производных класса,\n",
    "демонстрирующих принципы наследования и полиморфизма. В каждом из классов\n",
    "должны быть реализованы новые атрибуты и методы, а также переопределены\n",
    "некоторые методы базового класса для демонстрации полиморфизма.\n",
    "\n",
    "#### Дополнительное задание\n",
    "Добавьте к сущестующим классам (базовыму и производным 3-4 атрибута и метода) и реализуйте простое, сложное и множественное наследование"
   ]
  },
  {
   "cell_type": "markdown",
   "metadata": {},
   "source": [
    "<h2 style=\"color:DodgerBlue\">Реализация:</h2>\n",
    "\n",
    "----"
   ]
  },
  {
   "cell_type": "code",
   "execution_count": 4,
   "metadata": {
    "dotnet_interactive": {
     "language": "csharp"
    },
    "polyglot_notebook": {
     "kernelName": "csharp"
    }
   },
   "outputs": [
    {
     "name": "stdout",
     "output_type": "stream",
     "text": [
      "\n",
      "Название:Наушники Zvon-15\n",
      "Цена:699\n",
      "Производитель:КНР\n",
      "Активирована скидка 15%! Срок гарантии (лет) - 2.\n",
      "Название:Наушники Zvon-15 Скидка:15% Цена:594.15 Производитель:КНР\n",
      "\n",
      "Название:Футболка с рисунком слона\n",
      "Цена:599\n",
      "Производитель:Турция\n",
      "Размер:46\n",
      "Выполнено: Поправить футболку, стряхнуть пыль\n",
      "Название:Футболка с рисунком слона Цена:599 Производитель:Турция\n",
      "\n",
      "Название:Политика\n",
      "Цена:199\n",
      "Производитель:Россия\n",
      "Активирована скидка 5%!\n",
      "Название:Политика Скидка:5% Цена:189.05 Производитель:Россия Автор:Аристотель\n",
      "\n",
      "Название:Сяоминь 13Р\n",
      "Цена:4699\n",
      "Производитель:КНР\n"
     ]
    }
   ],
   "source": [
    "public class Product\n",
    "{\n",
    "    public string Name { get; set; }\n",
    "    public double Price { get; set; }\n",
    "    public string Manufacturer { get; set; }\n",
    "    public double NewPrice = 0;\n",
    "    public bool IfDscOn = false;\n",
    "    public double Dsc;\n",
    "\n",
    "    public virtual void GetInfo() \n",
    "    {\n",
    "        if(IfDscOn == true)\n",
    "        {\n",
    "            Console.WriteLine($\"Название:{Name} Скидка:{Dsc}% Цена:{NewPrice} Производитель:{Manufacturer}\");\n",
    "        }\n",
    "        else\n",
    "        {\n",
    "            Console.WriteLine($\"Название:{Name} Цена:{Price} Производитель:{Manufacturer}\");\n",
    "        }\n",
    "    }\n",
    "    public virtual void DiscountOn() \n",
    "    {\n",
    "        NewPrice = (Price * (1 - Dsc / 100));\n",
    "        NewPrice = Math.Round(NewPrice, 2);\n",
    "        Console.WriteLine($\"Активирована скидка {Dsc}%!\");\n",
    "        IfDscOn = true;\n",
    "    }\n",
    "\n",
    "    public virtual void Display() \n",
    "    {\n",
    "        if(IfDscOn == true)\n",
    "        {\n",
    "            Console.WriteLine($\"Название:{Name}\");\n",
    "            Console.WriteLine($\"Скидка:{Dsc}%\");\n",
    "            Console.WriteLine($\"Цена:{NewPrice}\");\n",
    "            Console.WriteLine($\"Производитель:{Manufacturer}\");\n",
    "        }\n",
    "        else\n",
    "        {\n",
    "            Console.WriteLine($\"Название:{Name}\");\n",
    "            Console.WriteLine($\"Цена:{Price}\");\n",
    "            Console.WriteLine($\"Производитель:{Manufacturer}\");\n",
    "        }\n",
    "    }\n",
    "\n",
    "}\n",
    "\n",
    "public interface IUpdate\n",
    "{\n",
    "    void Refresh(); // Метод для придания \"товарного\" вида\n",
    "}\n",
    "\n",
    "public class Electronics : Product // Простое наследование\n",
    "{\n",
    "    public int WarrantyPeriod { get; set; }\n",
    "    public override void DiscountOn()\n",
    "    {\n",
    "        NewPrice = (Price * (1 - Dsc / 100));\n",
    "        NewPrice = Math.Round(NewPrice, 2);\n",
    "        Console.WriteLine($\"Активирована скидка {Dsc}%! Срок гарантии (лет) - {WarrantyPeriod}.\");\n",
    "        IfDscOn = true;\n",
    "    }  \n",
    "}\n",
    "\n",
    "public class MobilePhone : Electronics // Сложное наследование\n",
    "{\n",
    "}\n",
    "\n",
    "public class Clothing : Product, IUpdate // Множественное наследование\n",
    "{\n",
    "    public void Refresh()\n",
    "    {\n",
    "        Console.WriteLine($\"Выполнено: Поправить футболку, стряхнуть пыль\");\n",
    "    }\n",
    "    public int Size { get; set; }\n",
    "    public override void Display()\n",
    "    {\n",
    "        if(IfDscOn == true)\n",
    "        {\n",
    "            Console.WriteLine($\"Название:{Name}\");\n",
    "            Console.WriteLine($\"Скидка:{Dsc}%\");\n",
    "            Console.WriteLine($\"Цена:{NewPrice}\");\n",
    "            Console.WriteLine($\"Производитель:{Manufacturer}\");\n",
    "            Console.WriteLine($\"Размер:{Size}\");\n",
    "        }\n",
    "        else\n",
    "        {\n",
    "            Console.WriteLine($\"Название:{Name}\");\n",
    "            Console.WriteLine($\"Цена:{Price}\");\n",
    "            Console.WriteLine($\"Производитель:{Manufacturer}\");\n",
    "            Console.WriteLine($\"Размер:{Size}\");\n",
    "        }\n",
    "    }\n",
    "}\n",
    "\n",
    "public class Books : Product\n",
    "{\n",
    "    public string Author { get; set; }\n",
    "    public override void GetInfo()\n",
    "    {\n",
    "        if(IfDscOn == true)\n",
    "        {\n",
    "            Console.WriteLine($\"Название:{Name} Скидка:{Dsc}% Цена:{NewPrice} Производитель:{Manufacturer} Автор:{Author}\");\n",
    "        }\n",
    "        else\n",
    "        {\n",
    "            Console.WriteLine($\"Название:{Name} Цена:{Price} Производитель:{Manufacturer} Автор:{Author}\");\n",
    "        }\n",
    "    }\n",
    "}\n",
    "\n",
    "var electronics = new Electronics {Name = \"Наушники Zvon-15\", Price=699, Manufacturer=\"КНР\", WarrantyPeriod = 2, Dsc=15, IfDscOn=false};\n",
    "var modilePhone = new MobilePhone {Name = \"Сяоминь 13Р\", Price=4699, Manufacturer=\"КНР\", WarrantyPeriod = 3, Dsc=5, IfDscOn=false};\n",
    "var clothing = new Clothing {Name = \"Футболка с рисунком слона\", Price=599, Manufacturer=\"Турция\", Size = 46, IfDscOn=false, Dsc=20};\n",
    "var books = new Books {Name = \"Политика\", Price=199, Manufacturer=\"Россия\", Author = \"Аристотель\", IfDscOn=false, Dsc=5};\n",
    "\n",
    "Console.WriteLine();\n",
    "electronics.Display();\n",
    "electronics.DiscountOn();\n",
    "electronics.GetInfo();\n",
    "\n",
    "Console.WriteLine();\n",
    "clothing.Display();\n",
    "clothing.Refresh();\n",
    "//clothing.DiscountOn();\n",
    "clothing.GetInfo();\n",
    "\n",
    "Console.WriteLine();\n",
    "books.Display();\n",
    "books.DiscountOn();\n",
    "books.GetInfo();\n",
    "\n",
    "Console.WriteLine();\n",
    "modilePhone.Display()"
   ]
  },
  {
   "cell_type": "code",
   "execution_count": null,
   "metadata": {},
   "outputs": [],
   "source": []
  }
 ],
 "metadata": {
  "kernelspec": {
   "display_name": ".NET (C#)",
   "language": "C#",
   "name": ".net-csharp"
  },
  "polyglot_notebook": {
   "kernelInfo": {
    "defaultKernelName": "csharp",
    "items": [
     {
      "aliases": [],
      "languageName": "csharp",
      "name": "csharp"
     }
    ]
   }
  }
 },
 "nbformat": 4,
 "nbformat_minor": 2
}
